{
 "cells": [
  {
   "cell_type": "markdown",
   "metadata": {},
   "source": [
    "# Tutorial for Emission Rate Generation\n",
    "\n",
    "> @File    :  Doc_0_Generate_Your_Own_ER.ipynb  \n",
    "@Time    :  2023/11/18 15:32:17  \n",
    "@Author  :  Qiuzi Chen  \n",
    "@Version :  1.0  \n",
    "@Contact :  qiuzi.chen@outlook.com  \n",
    "@Desc    :  Tutorial for ER generation on Local Activity Data.\n",
    "\n",
    "---"
   ]
  },
  {
   "cell_type": "code",
   "execution_count": null,
   "metadata": {},
   "outputs": [],
   "source": []
  }
 ],
 "metadata": {
  "language_info": {
   "name": "python"
  }
 },
 "nbformat": 4,
 "nbformat_minor": 2
}
